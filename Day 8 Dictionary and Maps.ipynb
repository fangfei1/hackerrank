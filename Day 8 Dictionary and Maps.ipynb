{
 "cells": [
  {
   "cell_type": "markdown",
   "metadata": {},
   "source": [
    "# Hackrank Day 8: "
   ]
  },
  {
   "cell_type": "markdown",
   "metadata": {},
   "source": [
    "## Dictionaries and Maps:\n",
    "### https://www.hackerrank.com/challenges/30-dictionaries-and-maps/problem\n"
   ]
  },
  {
   "cell_type": "code",
   "execution_count": null,
   "metadata": {},
   "outputs": [],
   "source": [
    "\n",
    "# Enter your code here. Read input from STDIN. Print output to STDOUT\n",
    "\n",
    "n=int(input())\n",
    "phone_book={}\n",
    "\n",
    "## Read data\n",
    "for i in range(0,n):\n",
    "    entry=str(input()).split(\" \")\n",
    "    name1=entry[0]\n",
    "    number1=entry[1]\n",
    "    phone_book[name1]=number1\n",
    "\n",
    "## Find Data\n",
    "while True:\n",
    "    try:\n",
    "        Name_Book=input()\n",
    "        if Name_Book in phone_book.keys():\n",
    "            print(\"{}={}\".format(Name_Book,phone_book[Name_Book]))\n",
    "        else:\n",
    "            print(\"Not found\")\n",
    "    except EOFError:\n",
    "        break\n"
   ]
  },
  {
   "cell_type": "markdown",
   "metadata": {},
   "source": [
    "\n",
    "# Summary\n",
    "\n",
    "### Read data from user's input:"
   ]
  },
  {
   "cell_type": "code",
   "execution_count": null,
   "metadata": {},
   "outputs": [],
   "source": [
    "a=input()\n",
    "## to restrict the data type we read:\n",
    "a=str(input())\n",
    "a=int(input())"
   ]
  },
  {
   "cell_type": "markdown",
   "metadata": {},
   "source": [
    "###  While True\n",
    "\n",
    "While True is always True in Python, it is a indefinitely loop, it only breaks when there is breaks\n",
    "\n",
    "### Try Except\n",
    "\n",
    "Try Except is to cache the expection in Python:\n",
    "\"Try\" lets you test a code for errors; \n",
    "\"Except\" lets you haddle the error\n",
    "\"finally\" lets you execute code, regardless of the result of try-except blocks\n",
    "\"Raise\": Force a error to occur\n",
    "\n",
    "#### Errors:\n",
    "There are different errors already in python: https://docs.python.org/3/library/exceptions.html\n",
    "\n",
    "\"EOFERROR\": error for not cache data in input\n",
    "\n",
    "Besides, we can also define the error to test the code https://docs.python.org/3/tutorial/errors.html"
   ]
  },
  {
   "cell_type": "code",
   "execution_count": null,
   "metadata": {},
   "outputs": [],
   "source": [
    "## eg:\n",
    "try: \n",
    "    print(x)\n",
    "except:\n",
    "    print(\"error\")\n",
    "\n",
    "## eg2:\n",
    "try:\n",
    "     print(x)\n",
    "except:\n",
    "    print(\"Hi\")\n",
    "finally:\n",
    "    print(\"Finish\") \n",
    "# No mater what, the \"Finish\" will be printed out. Because the finally will be excuted regardless the try except raise error\n",
    "\n",
    "##eg3:\n",
    "raise Error1(\"Hi\")\n",
    "## Then this error will show up in the console.\n"
   ]
  },
  {
   "cell_type": "markdown",
   "metadata": {},
   "source": [
    "### Print"
   ]
  },
  {
   "cell_type": "code",
   "execution_count": null,
   "metadata": {},
   "outputs": [],
   "source": [
    "#Print() always with parenthesis\n",
    "\n",
    "#### input a variable in Print:\n",
    "print(\"{} and {}\".format(variable1, variable2))\n",
    "\n",
    "#### parse a new line:\n",
    "print(\"{} \\n {}\".format(v1,v2))"
   ]
  },
  {
   "cell_type": "markdown",
   "metadata": {},
   "source": [
    "### Dictionary\n",
    "Dictionary always has a key, and use key to refer value. The key is unique\n",
    "\n"
   ]
  },
  {
   "cell_type": "code",
   "execution_count": 28,
   "metadata": {},
   "outputs": [],
   "source": [
    "## Define a blank dictionary:\n",
    "a={}\n",
    "b={'a':1,'b':2,'c':3}"
   ]
  },
  {
   "cell_type": "code",
   "execution_count": 29,
   "metadata": {},
   "outputs": [
    {
     "data": {
      "text/plain": [
       "{'a': 1, 'b': 2, 'c': 3, 'd': 5}"
      ]
     },
     "execution_count": 29,
     "metadata": {},
     "output_type": "execute_result"
    }
   ],
   "source": [
    "## Add value in Dictionary:\n",
    "b['d']=5 \n",
    "b\n",
    "# there is no need to use \"append\" method to add value in the dictionary: such as list.append(a)"
   ]
  },
  {
   "cell_type": "code",
   "execution_count": null,
   "metadata": {},
   "outputs": [],
   "source": [
    "## Sort keys:\n",
    "sorted(b.keys())"
   ]
  },
  {
   "cell_type": "code",
   "execution_count": 1,
   "metadata": {},
   "outputs": [
    {
     "data": {
      "text/plain": [
       "3"
      ]
     },
     "execution_count": 1,
     "metadata": {},
     "output_type": "execute_result"
    }
   ],
   "source": [
    "## Get value from key:\n",
    "dict={'apple':1,'pear':3,'peach':4}\n",
    "dict.get('pear')"
   ]
  }
 ],
 "metadata": {
  "kernelspec": {
   "display_name": "Python 3",
   "language": "python",
   "name": "python3"
  },
  "language_info": {
   "codemirror_mode": {
    "name": "ipython",
    "version": 3
   },
   "file_extension": ".py",
   "mimetype": "text/x-python",
   "name": "python",
   "nbconvert_exporter": "python",
   "pygments_lexer": "ipython3",
   "version": "3.6.4"
  }
 },
 "nbformat": 4,
 "nbformat_minor": 2
}
