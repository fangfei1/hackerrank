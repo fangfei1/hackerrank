{
 "cells": [
  {
   "cell_type": "markdown",
   "metadata": {},
   "source": [
    "# Day 10 Binary Numbers\n",
    "\n",
    "https://www.hackerrank.com/challenges/30-binary-numbers/problem\n",
    "\n",
    "## Question:\n",
    "\n",
    "Given a base- integer, , convert it to binary (base-). Then find and print the base- integer denoting the maximum number of consecutive 1's in binary representation.\n",
    "\n",
    "## Answer"
   ]
  },
  {
   "cell_type": "code",
   "execution_count": null,
   "metadata": {},
   "outputs": [],
   "source": [
    "#!/bin/python3\n",
    "\n",
    "import math\n",
    "import os\n",
    "import random\n",
    "import re\n",
    "import sys\n",
    "\n",
    "\n",
    "def count(x):\n",
    "    count=0\n",
    "    result=0\n",
    "    for i in range(len(x)):\n",
    "        if (x[i]=='1'):  ## check if the vlaue is equal to 1\n",
    "            count=count+1\n",
    "            result=max(result,count)\n",
    "        else:\n",
    "            result=max(result,count)\n",
    "            count=0\n",
    "    return result\n",
    "\n",
    "\n",
    "\n",
    "if __name__ == '__main__':\n",
    "    n = int(input())\n",
    "    b=count(bin(n))\n",
    "    print (b)"
   ]
  },
  {
   "cell_type": "markdown",
   "metadata": {},
   "source": [
    "## Summary\n",
    "\n",
    "When coding, the logic should be clear. \n",
    "\n",
    "When the string equal to 1, add 1; otherwise, set count equal to 0; Remember to save the last cumulative value to 'result' variable before set 'count' equal to 0. By comparing the maximum result from the past calculations, then return the maximum one."
   ]
  }
 ],
 "metadata": {
  "kernelspec": {
   "display_name": "Python 3",
   "language": "python",
   "name": "python3"
  },
  "language_info": {
   "codemirror_mode": {
    "name": "ipython",
    "version": 3
   },
   "file_extension": ".py",
   "mimetype": "text/x-python",
   "name": "python",
   "nbconvert_exporter": "python",
   "pygments_lexer": "ipython3",
   "version": "3.6.4"
  }
 },
 "nbformat": 4,
 "nbformat_minor": 2
}
